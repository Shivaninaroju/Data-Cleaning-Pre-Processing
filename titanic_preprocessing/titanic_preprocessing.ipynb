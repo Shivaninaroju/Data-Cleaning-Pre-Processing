{
 "cells": [
  {
   "cell_type": "markdown",
   "id": "2d398e2e",
   "metadata": {},
   "source": [
    "# Titanic — Data Cleaning & Preprocessing\n",
    "\n",
    "Steps included:\n",
    "\n",
    "1. Load dataset (expects `data/titanic.csv`).\n",
    "2. Exploratory Data Analysis (missing values, dtypes, distributions).\n",
    "3. Handle missing values (median/mean/mode, smart imputation).\n",
    "4. Feature engineering (title extraction, family size, deck extraction).\n",
    "5. Encoding categorical variables (One-Hot / Ordinal where appropriate).\n",
    "6. Scaling numeric features (StandardScaler) and pipeline creation.\n",
    "7. Outlier detection & removal using IQR and visualization via boxplots.\n",
    "8. Export cleaned dataset and pipeline for modeling.\n",
    "\n"
   ]
  },
  {
   "cell_type": "code",
   "execution_count": 17,
   "id": "fc11c561",
   "metadata": {},
   "outputs": [
    {
     "name": "stdout",
     "output_type": "stream",
     "text": [
      "Loaded data/titanic.csv\n",
      "\n",
      "Shape: (891, 12)\n"
     ]
    },
    {
     "data": {
      "text/html": [
       "<div>\n",
       "<style scoped>\n",
       "    .dataframe tbody tr th:only-of-type {\n",
       "        vertical-align: middle;\n",
       "    }\n",
       "\n",
       "    .dataframe tbody tr th {\n",
       "        vertical-align: top;\n",
       "    }\n",
       "\n",
       "    .dataframe thead th {\n",
       "        text-align: right;\n",
       "    }\n",
       "</style>\n",
       "<table border=\"1\" class=\"dataframe\">\n",
       "  <thead>\n",
       "    <tr style=\"text-align: right;\">\n",
       "      <th></th>\n",
       "      <th>PassengerId</th>\n",
       "      <th>Survived</th>\n",
       "      <th>Pclass</th>\n",
       "      <th>Name</th>\n",
       "      <th>Sex</th>\n",
       "      <th>Age</th>\n",
       "      <th>SibSp</th>\n",
       "      <th>Parch</th>\n",
       "      <th>Ticket</th>\n",
       "      <th>Fare</th>\n",
       "      <th>Cabin</th>\n",
       "      <th>Embarked</th>\n",
       "    </tr>\n",
       "  </thead>\n",
       "  <tbody>\n",
       "    <tr>\n",
       "      <th>0</th>\n",
       "      <td>1</td>\n",
       "      <td>0</td>\n",
       "      <td>3</td>\n",
       "      <td>Braund, Mr. Owen Harris</td>\n",
       "      <td>male</td>\n",
       "      <td>22.0</td>\n",
       "      <td>1</td>\n",
       "      <td>0</td>\n",
       "      <td>A/5 21171</td>\n",
       "      <td>7.2500</td>\n",
       "      <td>NaN</td>\n",
       "      <td>S</td>\n",
       "    </tr>\n",
       "    <tr>\n",
       "      <th>1</th>\n",
       "      <td>2</td>\n",
       "      <td>1</td>\n",
       "      <td>1</td>\n",
       "      <td>Cumings, Mrs. John Bradley (Florence Briggs Th...</td>\n",
       "      <td>female</td>\n",
       "      <td>38.0</td>\n",
       "      <td>1</td>\n",
       "      <td>0</td>\n",
       "      <td>PC 17599</td>\n",
       "      <td>71.2833</td>\n",
       "      <td>C85</td>\n",
       "      <td>C</td>\n",
       "    </tr>\n",
       "    <tr>\n",
       "      <th>2</th>\n",
       "      <td>3</td>\n",
       "      <td>1</td>\n",
       "      <td>3</td>\n",
       "      <td>Heikkinen, Miss. Laina</td>\n",
       "      <td>female</td>\n",
       "      <td>26.0</td>\n",
       "      <td>0</td>\n",
       "      <td>0</td>\n",
       "      <td>STON/O2. 3101282</td>\n",
       "      <td>7.9250</td>\n",
       "      <td>NaN</td>\n",
       "      <td>S</td>\n",
       "    </tr>\n",
       "    <tr>\n",
       "      <th>3</th>\n",
       "      <td>4</td>\n",
       "      <td>1</td>\n",
       "      <td>1</td>\n",
       "      <td>Futrelle, Mrs. Jacques Heath (Lily May Peel)</td>\n",
       "      <td>female</td>\n",
       "      <td>35.0</td>\n",
       "      <td>1</td>\n",
       "      <td>0</td>\n",
       "      <td>113803</td>\n",
       "      <td>53.1000</td>\n",
       "      <td>C123</td>\n",
       "      <td>S</td>\n",
       "    </tr>\n",
       "    <tr>\n",
       "      <th>4</th>\n",
       "      <td>5</td>\n",
       "      <td>0</td>\n",
       "      <td>3</td>\n",
       "      <td>Allen, Mr. William Henry</td>\n",
       "      <td>male</td>\n",
       "      <td>35.0</td>\n",
       "      <td>0</td>\n",
       "      <td>0</td>\n",
       "      <td>373450</td>\n",
       "      <td>8.0500</td>\n",
       "      <td>NaN</td>\n",
       "      <td>S</td>\n",
       "    </tr>\n",
       "  </tbody>\n",
       "</table>\n",
       "</div>"
      ],
      "text/plain": [
       "   PassengerId  Survived  Pclass  \\\n",
       "0            1         0       3   \n",
       "1            2         1       1   \n",
       "2            3         1       3   \n",
       "3            4         1       1   \n",
       "4            5         0       3   \n",
       "\n",
       "                                                Name     Sex   Age  SibSp  \\\n",
       "0                            Braund, Mr. Owen Harris    male  22.0      1   \n",
       "1  Cumings, Mrs. John Bradley (Florence Briggs Th...  female  38.0      1   \n",
       "2                             Heikkinen, Miss. Laina  female  26.0      0   \n",
       "3       Futrelle, Mrs. Jacques Heath (Lily May Peel)  female  35.0      1   \n",
       "4                           Allen, Mr. William Henry    male  35.0      0   \n",
       "\n",
       "   Parch            Ticket     Fare Cabin Embarked  \n",
       "0      0         A/5 21171   7.2500   NaN        S  \n",
       "1      0          PC 17599  71.2833   C85        C  \n",
       "2      0  STON/O2. 3101282   7.9250   NaN        S  \n",
       "3      0            113803  53.1000  C123        S  \n",
       "4      0            373450   8.0500   NaN        S  "
      ]
     },
     "execution_count": 17,
     "metadata": {},
     "output_type": "execute_result"
    }
   ],
   "source": [
    "import warnings\n",
    "warnings.filterwarnings('ignore')\n",
    "\n",
    "# Standard imports\n",
    "import pandas as pd\n",
    "import numpy as np\n",
    "import matplotlib.pyplot as plt\n",
    "import seaborn as sns\n",
    "from pathlib import Path\n",
    "\n",
    "DATA_PATH = Path('data/Titanic-Dataset.csv')\n",
    "\n",
    "if DATA_PATH.exists():\n",
    "    df = pd.read_csv(DATA_PATH)\n",
    "    print('Loaded data/titanic.csv')\n",
    "else:\n",
    "    import seaborn as sns\n",
    "    df = sns.load_dataset('titanic')\n",
    "    # seaborn's titanic has slightly different columns; provide a note\n",
    "    print('data/titanic.csv not found — using seaborn built-in Titanic dataset for demo')\n",
    "\n",
    "print('\\nShape:', df.shape)\n",
    "df.head()"
   ]
  },
  {
   "cell_type": "markdown",
   "id": "69dac899",
   "metadata": {},
   "source": [
    "## 1) Quick overview & missing values\n",
    "Let's inspect data types, missing percentages and an initial plan."
   ]
  },
  {
   "cell_type": "code",
   "execution_count": 18,
   "id": "3d3c2536",
   "metadata": {},
   "outputs": [
    {
     "name": "stdout",
     "output_type": "stream",
     "text": [
      "             missing_count  missing_pct\n",
      "Cabin                  687        77.10\n",
      "Age                    177        19.87\n",
      "Embarked                 2         0.22\n",
      "PassengerId              0         0.00\n",
      "Survived                 0         0.00\n",
      "Pclass                   0         0.00\n",
      "Name                     0         0.00\n",
      "Sex                      0         0.00\n",
      "SibSp                    0         0.00\n",
      "Parch                    0         0.00\n",
      "Ticket                   0         0.00\n",
      "Fare                     0         0.00\n",
      "\n",
      "Info:\n",
      "<class 'pandas.core.frame.DataFrame'>\n",
      "RangeIndex: 891 entries, 0 to 890\n",
      "Data columns (total 12 columns):\n",
      " #   Column       Non-Null Count  Dtype  \n",
      "---  ------       --------------  -----  \n",
      " 0   PassengerId  891 non-null    int64  \n",
      " 1   Survived     891 non-null    int64  \n",
      " 2   Pclass       891 non-null    int64  \n",
      " 3   Name         891 non-null    object \n",
      " 4   Sex          891 non-null    object \n",
      " 5   Age          714 non-null    float64\n",
      " 6   SibSp        891 non-null    int64  \n",
      " 7   Parch        891 non-null    int64  \n",
      " 8   Ticket       891 non-null    object \n",
      " 9   Fare         891 non-null    float64\n",
      " 10  Cabin        204 non-null    object \n",
      " 11  Embarked     889 non-null    object \n",
      "dtypes: float64(2), int64(5), object(5)\n",
      "memory usage: 83.7+ KB\n",
      "None\n"
     ]
    }
   ],
   "source": [
    "def missing_table(dataframe):\n",
    "    miss = dataframe.isnull().sum()\n",
    "    pct = (miss / len(dataframe) * 100).round(2)\n",
    "    out = pd.concat([miss, pct], axis=1)\n",
    "    out.columns = ['missing_count', 'missing_pct']\n",
    "    return out.sort_values('missing_count', ascending=False)\n",
    "\n",
    "print(missing_table(df))\n",
    "\n",
    "print('\\nInfo:')\n",
    "print(df.info())"
   ]
  },
  {
   "cell_type": "markdown",
   "id": "9fad52a5",
   "metadata": {},
   "source": [
    "## 2) Feature engineering ideas\n",
    "- Extract Title from `Name` (if present).\n",
    "- Family size from `SibSp` + `Parch`.\n",
    "- Extract Deck from `Cabin` (first letter) when available.\n",
    "- Convert `Sex`, `Embarked` using One-Hot / Ordinal encodings.\n",
    "- Impute `Age` with median of Title-group (smarter imputation).\n",
    "- Fill `Fare` missing with median.\n"
   ]
  },
  {
   "cell_type": "code",
   "execution_count": 19,
   "id": "767a2e13",
   "metadata": {},
   "outputs": [
    {
     "data": {
      "text/html": [
       "<div>\n",
       "<style scoped>\n",
       "    .dataframe tbody tr th:only-of-type {\n",
       "        vertical-align: middle;\n",
       "    }\n",
       "\n",
       "    .dataframe tbody tr th {\n",
       "        vertical-align: top;\n",
       "    }\n",
       "\n",
       "    .dataframe thead th {\n",
       "        text-align: right;\n",
       "    }\n",
       "</style>\n",
       "<table border=\"1\" class=\"dataframe\">\n",
       "  <thead>\n",
       "    <tr style=\"text-align: right;\">\n",
       "      <th></th>\n",
       "      <th>title</th>\n",
       "      <th>family_size</th>\n",
       "      <th>deck</th>\n",
       "    </tr>\n",
       "  </thead>\n",
       "  <tbody>\n",
       "    <tr>\n",
       "      <th>0</th>\n",
       "      <td>Mr</td>\n",
       "      <td>2</td>\n",
       "      <td>NaN</td>\n",
       "    </tr>\n",
       "    <tr>\n",
       "      <th>1</th>\n",
       "      <td>Mrs</td>\n",
       "      <td>2</td>\n",
       "      <td>C</td>\n",
       "    </tr>\n",
       "    <tr>\n",
       "      <th>2</th>\n",
       "      <td>Miss</td>\n",
       "      <td>1</td>\n",
       "      <td>NaN</td>\n",
       "    </tr>\n",
       "    <tr>\n",
       "      <th>3</th>\n",
       "      <td>Mrs</td>\n",
       "      <td>2</td>\n",
       "      <td>C</td>\n",
       "    </tr>\n",
       "    <tr>\n",
       "      <th>4</th>\n",
       "      <td>Mr</td>\n",
       "      <td>1</td>\n",
       "      <td>NaN</td>\n",
       "    </tr>\n",
       "  </tbody>\n",
       "</table>\n",
       "</div>"
      ],
      "text/plain": [
       "  title  family_size deck\n",
       "0    Mr            2  NaN\n",
       "1   Mrs            2    C\n",
       "2  Miss            1  NaN\n",
       "3   Mrs            2    C\n",
       "4    Mr            1  NaN"
      ]
     },
     "execution_count": 19,
     "metadata": {},
     "output_type": "execute_result"
    }
   ],
   "source": [
    "# Make copies\n",
    "data = df.copy()\n",
    "\n",
    "# Normalize column names to lower-case strings for robustness\n",
    "data.columns = [c.lower() for c in data.columns]\n",
    "\n",
    "# Example transformations only when expected columns exist\n",
    "if 'name' in data.columns:\n",
    "    # extract title\n",
    "    data['title'] = data['name'].str.extract(r',\\s*([^\\.]+)\\.', expand=False).str.strip()\n",
    "    # group rare titles\n",
    "    title_map = (data['title'].value_counts()[data['title'].value_counts() < 10].index.tolist())\n",
    "    data['title'] = data['title'].replace(title_map, 'Rare')\n",
    "\n",
    "# family size\n",
    "if set(['sibsp','parch']).issubset(data.columns):\n",
    "    data['family_size'] = data['sibsp'] + data['parch'] + 1\n",
    "\n",
    "# deck extraction\n",
    "if 'cabin' in data.columns:\n",
    "    data['deck'] = data['cabin'].astype(str).str[0].replace('n', np.nan)\n",
    "\n",
    "# Quick look\n",
    "data[[c for c in ['title','family_size','deck'] if c in data.columns]].head()"
   ]
  },
  {
   "cell_type": "markdown",
   "id": "62d2594b",
   "metadata": {},
   "source": [
    "## 3) Handling missing values — smart strategy\n",
    "- Age: impute median per Title group (if Title exists), else median overall.\n",
    "- Embarked: fill with mode.\n",
    "- Fare: median.\n",
    "- Cabin/Deck: 'Missing' label.\n"
   ]
  },
  {
   "cell_type": "code",
   "execution_count": 20,
   "id": "ab1b9198",
   "metadata": {},
   "outputs": [
    {
     "name": "stdout",
     "output_type": "stream",
     "text": [
      "After imputation:\n",
      "             missing_count  missing_pct\n",
      "passengerid              0          0.0\n",
      "survived                 0          0.0\n",
      "pclass                   0          0.0\n",
      "name                     0          0.0\n",
      "sex                      0          0.0\n",
      "age                      0          0.0\n",
      "sibsp                    0          0.0\n",
      "parch                    0          0.0\n",
      "ticket                   0          0.0\n",
      "fare                     0          0.0\n",
      "cabin                    0          0.0\n",
      "embarked                 0          0.0\n",
      "title                    0          0.0\n",
      "family_size              0          0.0\n",
      "deck                     0          0.0\n"
     ]
    }
   ],
   "source": [
    "# Age imputation by title if possible\n",
    "if 'age' in data.columns:\n",
    "    if 'title' in data.columns:\n",
    "        data['age'] = data['age'].fillna(\n",
    "            data.groupby('title')['age'].transform('median')\n",
    "        )\n",
    "    else:\n",
    "        data['age'] = data['age'].fillna(data['age'].median())\n",
    "\n",
    "# Embarked\n",
    "if 'embarked' in data.columns:\n",
    "    data['embarked'] = data['embarked'].fillna(data['embarked'].mode().iloc[0])\n",
    "\n",
    "# Fare\n",
    "if 'fare' in data.columns:\n",
    "    data['fare'] = data['fare'].fillna(data['fare'].median())\n",
    "\n",
    "# Deck/Cabin\n",
    "if 'deck' in data.columns:\n",
    "    data['deck'] = data['deck'].fillna('Missing')\n",
    "if 'cabin' in data.columns:\n",
    "    data['cabin'] = data['cabin'].fillna('Missing')\n",
    "\n",
    "print(\"After imputation:\")\n",
    "print(missing_table(data))\n"
   ]
  },
  {
   "cell_type": "markdown",
   "id": "ffd20b18",
   "metadata": {},
   "source": [
    "## 4) Encoding categorical features\n",
    "- For low-cardinality nominal features: One-Hot Encoding.\n",
    "- For ordinal or title-like: Label/Ordinal encoding.\n",
    "We'll build a sklearn `ColumnTransformer` and `Pipeline` to ensure reproducibility."
   ]
  },
  {
   "cell_type": "code",
   "execution_count": 21,
   "id": "2d630150",
   "metadata": {},
   "outputs": [
    {
     "data": {
      "text/plain": [
       "(['passengerid', 'pclass', 'age', 'sibsp', 'parch', 'fare', 'family_size'],\n",
       " ['name', 'sex', 'ticket', 'cabin', 'embarked', 'title', 'deck'])"
      ]
     },
     "execution_count": 21,
     "metadata": {},
     "output_type": "execute_result"
    }
   ],
   "source": [
    "from sklearn.pipeline import Pipeline\n",
    "from sklearn.compose import ColumnTransformer\n",
    "from sklearn.preprocessing import OneHotEncoder, OrdinalEncoder, StandardScaler\n",
    "\n",
    "# Identify types\n",
    "num_cols = data.select_dtypes(include=['number']).columns.tolist()\n",
    "cat_cols = data.select_dtypes(include=['object','category']).columns.tolist()\n",
    "# drop target if present (e.g., 'survived') from features\n",
    "if 'survived' in num_cols:\n",
    "    num_cols.remove('survived')\n",
    "if 'survived' in cat_cols:\n",
    "    cat_cols.remove('survived')\n",
    "\n",
    "# choose sensible defaults\n",
    "num_cols, cat_cols\n"
   ]
  },
  {
   "cell_type": "code",
   "execution_count": 23,
   "id": "81cacb9b",
   "metadata": {},
   "outputs": [
    {
     "name": "stdout",
     "output_type": "stream",
     "text": [
      "✅ Preprocessing pipeline fitted successfully.\n"
     ]
    }
   ],
   "source": [
    "from sklearn.pipeline import Pipeline, make_pipeline\n",
    "from sklearn.compose import ColumnTransformer\n",
    "from sklearn.preprocessing import OneHotEncoder, StandardScaler\n",
    "\n",
    "# Numeric transformer\n",
    "numeric_transformer = Pipeline(steps=[\n",
    "    ('scaler', StandardScaler())\n",
    "])\n",
    "\n",
    "# ✅ Fixed categorical transformer\n",
    "try:\n",
    "    # For scikit-learn >= 1.2\n",
    "    categorical_transformer = Pipeline(steps=[\n",
    "        ('onehot', OneHotEncoder(handle_unknown='ignore', sparse_output=False))\n",
    "    ])\n",
    "except TypeError:\n",
    "    # Fallback for scikit-learn < 1.2\n",
    "    categorical_transformer = Pipeline(steps=[\n",
    "        ('onehot', OneHotEncoder(handle_unknown='ignore', sparse=False))\n",
    "    ])\n",
    "\n",
    "# ColumnTransformer\n",
    "preprocessor = ColumnTransformer(\n",
    "    transformers=[\n",
    "        ('num', numeric_transformer, num_cols),\n",
    "        ('cat', categorical_transformer, cat_cols)\n",
    "    ],\n",
    "    remainder='drop'\n",
    ")\n",
    "\n",
    "# Full pipeline\n",
    "full_pipeline = make_pipeline(preprocessor)\n",
    "\n",
    "# Fit transformer on data (drop target if present)\n",
    "X = data.drop(columns=['survived']) if 'survived' in data.columns else data.copy()\n",
    "full_pipeline.fit(X)\n",
    "\n",
    "print('✅ Preprocessing pipeline fitted successfully.')\n"
   ]
  },
  {
   "cell_type": "markdown",
   "id": "d1d0da5d",
   "metadata": {},
   "source": [
    "## 5) Outlier detection & removal (IQR method)\n",
    "We'll demonstrate using Fare and Age (if present). Remove extreme outliers per numeric column using 1.5*IQR rule."
   ]
  },
  {
   "cell_type": "code",
   "execution_count": 25,
   "id": "59cc9f37",
   "metadata": {},
   "outputs": [
    {
     "name": "stdout",
     "output_type": "stream",
     "text": [
      "Removed 35 rows based on outliers in age\n",
      "Removed 109 rows based on outliers in fare\n",
      "\n",
      "Shape before: (891, 15)\n",
      "Shape after: (747, 15)\n"
     ]
    }
   ],
   "source": [
    "def remove_outliers_iqr(df_, cols):\n",
    "    df = df_.copy()\n",
    "    for col in cols:\n",
    "        if col not in df.columns: \n",
    "            continue\n",
    "        Q1 = df[col].quantile(0.25)\n",
    "        Q3 = df[col].quantile(0.75)\n",
    "        IQR = Q3 - Q1\n",
    "        low = Q1 - 1.5 * IQR\n",
    "        high = Q3 + 1.5 * IQR\n",
    "        before = df.shape[0]\n",
    "        df = df[(df[col] >= low) & (df[col] <= high)]\n",
    "        after = df.shape[0]\n",
    "        print(f'Removed {before-after} rows based on outliers in {col}')\n",
    "    return df\n",
    "\n",
    "numeric_for_outliers = [c for c in ['age','fare'] if c in data.columns]\n",
    "cleaned = remove_outliers_iqr(data, numeric_for_outliers)\n",
    "\n",
    "print('\\nShape before:', data.shape)\n",
    "print('Shape after:', cleaned.shape)"
   ]
  },
  {
   "cell_type": "markdown",
   "id": "2b5718d2",
   "metadata": {},
   "source": [
    "### Visualize with boxplots"
   ]
  },
  {
   "cell_type": "code",
   "execution_count": 26,
   "id": "1841430f",
   "metadata": {},
   "outputs": [
    {
     "data": {
      "image/png": "[encoded data removed]",
      "text/plain": [
       "<Figure size 600x300 with 1 Axes>"
      ]
     },
     "metadata": {},
     "output_type": "display_data"
    },
    {
     "data": {
      "image/png": "[encoded data removed]",
      "text/plain": [
       "<Figure size 600x300 with 1 Axes>"
      ]
     },
     "metadata": {},
     "output_type": "display_data"
    }
   ],
   "source": [
    "for col in numeric_for_outliers:\n",
    "    plt.figure(figsize=(6,3))\n",
    "    sns.boxplot(x=cleaned[col])\n",
    "    plt.title(f'Boxplot of {col} after outlier removal')\n",
    "    plt.tight_layout()\n",
    "    plt.show()"
   ]
  },
  {
   "cell_type": "markdown",
   "id": "c92e2b90",
   "metadata": {},
   "source": [
    "## 6) Export cleaned data & pipeline\n",
    "Save cleaned CSV and the sklearn pipeline (using joblib) for future modeling."
   ]
  },
  {
   "cell_type": "code",
   "execution_count": 27,
   "id": "c7684ed7",
   "metadata": {},
   "outputs": [
    {
     "name": "stdout",
     "output_type": "stream",
     "text": [
      "Saved cleaned dataset and preprocessing pipeline to C:\\Users\\SHIVANI\\Downloads\\GitHub\\Data-Cleaning-Pre-Processing\\titanic_preprocessing\\output\n"
     ]
    }
   ],
   "source": [
    "import joblib\n",
    "\n",
    "OUT_DIR = Path('output')\n",
    "OUT_DIR.mkdir(exist_ok=True)\n",
    "\n",
    "cleaned.to_csv(OUT_DIR / 'titanic_cleaned.csv', index=False)\n",
    "joblib.dump(full_pipeline, OUT_DIR / 'preprocessing_pipeline.joblib')\n",
    "print('Saved cleaned dataset and preprocessing pipeline to', OUT_DIR.resolve())"
   ]
  },
  {
   "cell_type": "code",
   "execution_count": null,
   "id": "f6389e07",
   "metadata": {},
   "outputs": [],
   "source": []
  }
 ],
 "metadata": {
  "kernelspec": {
   "display_name": "base",
   "language": "python",
   "name": "python3"
  },
  "language_info": {
   "codemirror_mode": {
    "name": "ipython",
    "version": 3
   },
   "file_extension": ".py",
   "mimetype": "text/x-python",
   "name": "python",
   "nbconvert_exporter": "python",
   "pygments_lexer": "ipython3",
   "version": "3.12.7"
  }
 },
 "nbformat": 4,
 "nbformat_minor": 5
}
